{
  "nbformat": 4,
  "nbformat_minor": 0,
  "metadata": {
    "colab": {
      "provenance": []
    },
    "kernelspec": {
      "name": "python3",
      "display_name": "Python 3"
    },
    "language_info": {
      "name": "python"
    }
  },
  "cells": [
    {
      "cell_type": "markdown",
      "source": [
        "## MACHINE LEARNING LAB - 01"
      ],
      "metadata": {
        "id": "i1z9QAXffzOs"
      }
    },
    {
      "cell_type": "markdown",
      "source": [
        "## Write a Python program to Sort a few user given numbers"
      ],
      "metadata": {
        "id": "3mQgWBRNUweg"
      }
    },
    {
      "cell_type": "code",
      "execution_count": null,
      "metadata": {
        "colab": {
          "base_uri": "https://localhost:8080/"
        },
        "id": "XtNLL5OLUv6K",
        "outputId": "5b64bd67-a5be-46e9-d9c0-ddb5e7f8dba0"
      },
      "outputs": [
        {
          "name": "stdout",
          "output_type": "stream",
          "text": [
            "Enter numbers separated by spaces: 32 34 45 64 12 91\n"
          ]
        },
        {
          "output_type": "execute_result",
          "data": {
            "text/plain": [
              "[12, 32, 34, 45, 64, 91]"
            ]
          },
          "metadata": {},
          "execution_count": 1
        }
      ],
      "source": [
        "numbers = input(\"Enter numbers separated by spaces: \")\n",
        "\n",
        "numbers = [int(num) for num in numbers.split()]\n",
        "\n",
        "numbers.sort()\n",
        "\n",
        "numbers"
      ]
    },
    {
      "cell_type": "markdown",
      "source": [
        "## Write a Python Program to print the following pattern.\n",
        "\t*\n",
        "\t**\n",
        "\t***\n",
        "\t****"
      ],
      "metadata": {
        "id": "E2MRnqQzVcfS"
      }
    },
    {
      "cell_type": "code",
      "source": [
        "for i in range(1, 5):\n",
        "    print('*' * i)"
      ],
      "metadata": {
        "colab": {
          "base_uri": "https://localhost:8080/"
        },
        "id": "XTiBY5IiVqm0",
        "outputId": "1f7ee83e-1b43-4812-99a7-6c49184da54f"
      },
      "execution_count": null,
      "outputs": [
        {
          "output_type": "stream",
          "name": "stdout",
          "text": [
            "*\n",
            "**\n",
            "***\n",
            "****\n"
          ]
        }
      ]
    },
    {
      "cell_type": "markdown",
      "source": [
        "## Write a Python Program to Create a Student Database of 5 Students having Roll, Name, Semester. Display it."
      ],
      "metadata": {
        "id": "lUsESJuQVzYK"
      }
    },
    {
      "cell_type": "code",
      "source": [
        "student_database = []\n",
        "\n",
        "for _ in range(5):\n",
        "    roll = input(\"Enter Roll Number: \")\n",
        "    name = input(\"Enter Name: \")\n",
        "    semester = input(\"Enter Semester: \")\n",
        "\n",
        "    student_database.append((roll, name, semester))\n",
        "\n",
        "print(\"\\nStudent Database:\")\n",
        "for student in student_database:\n",
        "    print(f\"Roll: {student[0]}, Name: {student[1]}, Semester: {student[2]}\")\n"
      ],
      "metadata": {
        "colab": {
          "base_uri": "https://localhost:8080/"
        },
        "id": "JygQ6kU4V1XF",
        "outputId": "c33ed168-e1f0-486c-8296-6786d0edc56b"
      },
      "execution_count": null,
      "outputs": [
        {
          "output_type": "stream",
          "name": "stdout",
          "text": [
            "Enter Roll Number: 2\n",
            "Enter Name: Arindam Sahoo\n",
            "Enter Semester: 6\n",
            "Enter Roll Number: 4\n",
            "Enter Name: Ranit Santra\n",
            "Enter Semester: 6\n",
            "Enter Roll Number: 9\n",
            "Enter Name: Sourav Das\n",
            "Enter Semester: 6\n",
            "Enter Roll Number: 10\n",
            "Enter Name: Arnab Ghorui\n",
            "Enter Semester: 6\n",
            "Enter Roll Number: 44\n",
            "Enter Name: Aranya Jana\n",
            "Enter Semester: 6\n",
            "\n",
            "Student Database:\n",
            "Roll: 2, Name: Arindam Sahoo, Semester: 6\n",
            "Roll: 4, Name: Ranit Santra, Semester: 6\n",
            "Roll: 9, Name: Sourav Das, Semester: 6\n",
            "Roll: 10, Name: Arnab Ghorui, Semester: 6\n",
            "Roll: 44, Name: Aranya Jana, Semester: 6\n"
          ]
        }
      ]
    }
  ]
}